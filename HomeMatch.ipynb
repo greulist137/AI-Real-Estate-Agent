{
 "cells": [
  {
   "cell_type": "markdown",
   "id": "a108af04",
   "metadata": {},
   "source": [
    "This is a starter notebook for the project, you'll have to import the libraries you'll need, you can find a list of the ones available in this workspace in the requirements.txt file in this workspace. "
   ]
  },
  {
   "cell_type": "code",
   "execution_count": 1,
   "id": "6554fd4c",
   "metadata": {},
   "outputs": [],
   "source": [
    "import os\n",
    "import chromadb\n",
    "from langchain.llms import OpenAI\n",
    "from langchain.embeddings import OpenAIEmbeddings\n",
    "from langchain.text_splitter import RecursiveCharacterTextSplitter\n",
    "from datetime import datetime\n",
    "from langchain.document_loaders import DirectoryLoader\n",
    "from langchain.vectorstores import Chroma\n",
    "from langchain.document_loaders import TextLoader\n",
    "from langchain.chat_models import ChatOpenAI\n",
    "from langchain.prompts import ChatPromptTemplate\n",
    "\n",
    "os.environ[\"OPENAI_API_KEY\"] = \"API-KEY-HERE\"\n",
    "os.environ[\"OPENAI_API_BASE\"] = \"https://openai.vocareum.com/v1\""
   ]
  },
  {
   "cell_type": "code",
   "execution_count": 2,
   "id": "7cc9cac7",
   "metadata": {},
   "outputs": [],
   "source": [
    "# Importing the necessary library for OpenAI API\n",
    "import openai\n",
    "openai.api_base = \"https://openai.vocareum.com/v1\"\n",
    "\n",
    "# Define your OpenAI API key \n",
    "api_key = \"API-KEY-HERE\"\n",
    "openai.api_key = api_key"
   ]
  },
  {
   "cell_type": "code",
   "execution_count": 3,
   "id": "39024229",
   "metadata": {},
   "outputs": [],
   "source": [
    "prompt_template = '''\n",
    "Create a real estate listing that  should follow the following format:\n",
    "\n",
    "Neighborhood: (i.e. Green Oaks)\n",
    "Price: (i.e.\"$800,000\")\n",
    "Bedrooms: (i.e. 3)\n",
    "Bathrooms: (i.e. 2)\n",
    "House Size: (i.e \"2,000\" sqft)\n",
    "\n",
    "Description: (i.e. Welcome to this eco-friendly oasis nestled in the heart of Green Oaks. This charming 3-bedroom, 2-bathroom home boasts energy-efficient features such as solar panels and a well-insulated structure. Natural light floods the living spaces, highlighting the beautiful hardwood floors and eco-conscious finishes. The open-concept kitchen and dining area lead to a spacious backyard with a vegetable garden, perfect for the eco-conscious family. Embrace sustainable living without compromising on style in this Green Oaks gem.)\n",
    "\n",
    "Neighborhood Description: (i.e. Green Oaks is a close-knit, environmentally-conscious community with access to organic grocery stores, community gardens, and bike paths. Take a stroll through the nearby Green Oaks Park or grab a cup of coffee at the cozy Green Bean Cafe. With easy access to public transportation and bike lanes, commuting is a breeze.)\n",
    "'''"
   ]
  },
  {
   "cell_type": "code",
   "execution_count": 4,
   "id": "f39ebb62",
   "metadata": {},
   "outputs": [
    {
     "name": "stdout",
     "output_type": "stream",
     "text": [
      "Generated Listings:\n",
      "Neighborhood: Riverfront Estates\n",
      "Price: $1,200,000\n",
      "Bedrooms: 4\n",
      "Bathrooms: 3.5\n",
      "House Size: 3,500 sqft\n",
      "\n",
      "Description: Situated in the prestigious Riverfront Estates, this luxurious 4-bedroom, 3.5-bathroom home offers a blend of modern sophistication and timeless elegance. The grand foyer welcomes you into a spacious, light-filled living room with soaring ceilings and a cozy fireplace. The gourmet kitchen features high-end appliances, granite countertops, and a breakfast nook overlooking the beautifully landscaped backyard. The master suite is a true retreat with a spa-like bathroom and a private balcony with stunning views of the river. Additional features include a home office, a media room, and a three-car garage.\n",
      "\n",
      "Neighborhood Description: Riverfront Estates is an exclusive waterfront community known for its upscale residences and scenic views of the river. Residents can enjoy access to private docks, walking trails, and a neighborhood clubhouse. The neighborhood is conveniently located near top-rated schools, upscale shopping centers, and fine dining restaurants. Experience luxury living at its finest in the serene and picturesque setting of Riverfront Estates.\n"
     ]
    }
   ],
   "source": [
    "# Function to call the OpenAI GPT-3.5 API\n",
    "def generate_real_estate_listings(prompt_template):\n",
    "    try:\n",
    "        # Calling the OpenAI API with a system message and our prompt in the user message content\n",
    "        # Use openai.ChatCompletion.create for openai < 1.0\n",
    "        # openai.chat.completions.create for openai > 1.0\n",
    "        response = openai.ChatCompletion.create(\n",
    "          model=\"gpt-3.5-turbo\",\n",
    "          messages=[\n",
    "          {\n",
    "            \"role\": \"system\",\n",
    "            \"content\": \"You are a real estate agent. You are writing up real estate listings for potential buyers to view. \"\n",
    "          },\n",
    "          {\n",
    "            \"role\": \"user\",\n",
    "            \"content\": prompt_template\n",
    "          }\n",
    "          ],\n",
    "        temperature=1,\n",
    "        max_tokens=1024,\n",
    "        top_p=1,\n",
    "        frequency_penalty=0,\n",
    "        presence_penalty=0\n",
    "        )\n",
    "        # The response is a JSON object containing more information than the generated review. We want to return only the message content\n",
    "        return response.choices[0].message.content\n",
    "    except Exception as e:\n",
    "        return f\"An error occurred: {e}\"\n",
    "\n",
    "# Generating the response from the model\n",
    "generated_listings = generate_real_estate_listings(prompt_template)\n",
    "\n",
    "# Printing the output. \n",
    "print(\"Generated Listings:\")\n",
    "print(generated_listings)"
   ]
  },
  {
   "cell_type": "code",
   "execution_count": 5,
   "id": "da905cd5",
   "metadata": {},
   "outputs": [],
   "source": [
    "# Create the data directory if it doesn't exist\n",
    "os.makedirs('data', exist_ok=True)"
   ]
  },
  {
   "cell_type": "code",
   "execution_count": 6,
   "id": "02f902df",
   "metadata": {},
   "outputs": [],
   "source": [
    "def save_text_to_file(text, prefix='document'):\n",
    "    \"\"\"\n",
    "    Saves the given text to a uniquely named file in the data directory.\n",
    "    \"\"\"\n",
    "    # Generate a unique filename using timestamp\n",
    "    timestamp = datetime.now().strftime('%Y%m%d_%H%M%S')\n",
    "    filename = f\"{prefix}_{timestamp}.txt\"\n",
    "    \n",
    "    # Create the full file path\n",
    "    file_path = os.path.join('data', filename)\n",
    "    \n",
    "    # Write the text to the file\n",
    "    try:\n",
    "        with open(file_path, 'w', encoding='utf-8') as f:\n",
    "            f.write(text)\n",
    "        return file_path\n",
    "    except Exception as e:\n",
    "        print(f\"Error writing to file: {e}\")\n",
    "        return None"
   ]
  },
  {
   "cell_type": "code",
   "execution_count": 7,
   "id": "cd6aea41",
   "metadata": {},
   "outputs": [
    {
     "name": "stdout",
     "output_type": "stream",
     "text": [
      "Generated listing 1/10: data/listing_20241106_113112.txt\n",
      "Generated listing 2/10: data/listing_20241106_113116.txt\n",
      "Generated listing 3/10: data/listing_20241106_113120.txt\n",
      "Generated listing 4/10: data/listing_20241106_113124.txt\n",
      "Generated listing 5/10: data/listing_20241106_113128.txt\n",
      "Generated listing 6/10: data/listing_20241106_113132.txt\n",
      "Generated listing 7/10: data/listing_20241106_113136.txt\n",
      "Generated listing 8/10: data/listing_20241106_113140.txt\n",
      "Generated listing 9/10: data/listing_20241106_113145.txt\n",
      "Generated listing 10/10: data/listing_20241106_113150.txt\n"
     ]
    }
   ],
   "source": [
    "# Generate and save 10 listings\n",
    "for i in range(10):\n",
    "    # Generate a listing\n",
    "    listing_text = generate_real_estate_listings(prompt_template)\n",
    "    \n",
    "    # Save it to a file with a prefix of 'listing'\n",
    "    file_path = save_text_to_file(listing_text, prefix='listing')\n",
    "    \n",
    "    # Print confirmation\n",
    "    print(f\"Generated listing {i+1}/10: {file_path}\")"
   ]
  },
  {
   "cell_type": "code",
   "execution_count": 8,
   "id": "69a810ce",
   "metadata": {},
   "outputs": [],
   "source": [
    "\n",
    "def load_and_embed_documents():\n",
    "    \"\"\"\n",
    "    Load text documents from a directory and create a vector store using OpenAI embeddings.\n",
    "    \"\"\"\n",
    "    documents = []\n",
    "    \n",
    "    # Load each text file in the directory\n",
    "    for filename in os.listdir(\"data\"):\n",
    "        if filename.endswith('.txt'):\n",
    "            file_path = os.path.join(\"data\", filename)\n",
    "            loader = TextLoader(file_path)\n",
    "            documents.extend(loader.load())\n",
    "            print(f\"Loaded {filename}\")\n",
    "    \n",
    "    # Initialize OpenAI embeddings\n",
    "    embeddings = OpenAIEmbeddings()\n",
    "    \n",
    "    # Create and persist vector store\n",
    "    db = Chroma.from_documents(\n",
    "        documents=documents,\n",
    "        embedding=embeddings,\n",
    "        persist_directory=\"./chroma_db\"\n",
    "    )\n",
    "    \n",
    "    return db"
   ]
  },
  {
   "cell_type": "code",
   "execution_count": 9,
   "id": "cb73942d",
   "metadata": {},
   "outputs": [
    {
     "name": "stdout",
     "output_type": "stream",
     "text": [
      "Loaded listing_20241106_113145.txt\n",
      "Loaded listing_20241106_113150.txt\n",
      "Loaded listing_20241106_113136.txt\n",
      "Loaded listing_20241106_113140.txt\n",
      "Loaded listing_20241106_113112.txt\n",
      "Loaded listing_20241106_113116.txt\n",
      "Loaded listing_20241106_113132.txt\n",
      "Loaded listing_20241106_113124.txt\n",
      "Loaded listing_20241106_113120.txt\n",
      "Loaded listing_20241106_113128.txt\n"
     ]
    }
   ],
   "source": [
    "loaded_db = load_and_embed_documents()"
   ]
  },
  {
   "cell_type": "code",
   "execution_count": 10,
   "id": "1491fe1e",
   "metadata": {},
   "outputs": [],
   "source": [
    "user_questions = [   \n",
    "                \"How big do you want your house to be?\" \n",
    "                \"What are 3 most important things for you in choosing this property?\", \n",
    "                \"Which amenities would you like?\", \n",
    "                \"Which transportation options are important to you?\",\n",
    "                \"How urban do you want your neighborhood to be?\",   \n",
    "            ]\n",
    "user_answers = [\n",
    "    \"A comfortable three-bedroom house with a spacious kitchen and a cozy living room.\",\n",
    "    \"A quiet neighborhood, good local schools, and convenient shopping options.\",\n",
    "    \"A backyard for gardening, a two-car garage, and a modern, energy-efficient heating system.\",\n",
    "    \"Easy access to a reliable bus line, proximity to a major highway, and bike-friendly roads.\",\n",
    "    \"A balance between suburban tranquility and access to urban amenities like restaurants and theaters.\"]"
   ]
  },
  {
   "cell_type": "code",
   "execution_count": 11,
   "id": "37195ac5",
   "metadata": {},
   "outputs": [],
   "source": [
    "\n",
    "def get_real_estate_recommendations(user_answers):    \n",
    "    # Initialize components\n",
    "    embeddings = OpenAIEmbeddings()\n",
    "    llm = ChatOpenAI(temperature=1.0)\n",
    "    \n",
    "    # Load the vector store\n",
    "    db = Chroma(\n",
    "        persist_directory=\"./chroma_db\",\n",
    "        embedding_function=embeddings\n",
    "    )\n",
    "    \n",
    "    # Create simple prompt\n",
    "    prompt = ChatPromptTemplate.from_template(\"\"\"\n",
    "    As a real estate agent, recommend properties based on these customer preferences:\n",
    "\n",
    "    Size and Layout: {size}\n",
    "    Top Priorities: {priorities}\n",
    "    Desired Amenities: {amenities}\n",
    "    Transportation: {transport}\n",
    "    Neighborhood Type: {neighborhood}\n",
    "\n",
    "    Available Properties:\n",
    "    {listings}\n",
    "\n",
    "    Please suggest the best matches and explain why they would work for this customer.\n",
    "    \"\"\")\n",
    "    \n",
    "    # Combine all preferences for search\n",
    "    search_query = f\"{user_answers[0]} {user_answers[1]} {user_answers[2]} {user_answers[3]} {user_answers[4]}\"\n",
    "    \n",
    "    # Get relevant listings\n",
    "    docs = db.similarity_search(search_query, k=3)\n",
    "    listings = \"\\n\\n\".join(doc.page_content for doc in docs)\n",
    "    \n",
    "    # Format the prompt\n",
    "    messages = prompt.format_messages(\n",
    "        size=user_answers[0],\n",
    "        priorities=user_answers[1],\n",
    "        amenities=user_answers[2],\n",
    "        transport=user_answers[3],\n",
    "        neighborhood=user_answers[4],\n",
    "        listings=listings\n",
    "    )\n",
    "    \n",
    "    # Get recommendations\n",
    "    response = llm.invoke(messages)\n",
    "    return response.content"
   ]
  },
  {
   "cell_type": "code",
   "execution_count": 12,
   "id": "92ad089a",
   "metadata": {},
   "outputs": [
    {
     "data": {
      "text/plain": [
       "\"Based on the customer preferences provided, the best match would be the property in Serene Meadows. \\n\\nThis property meets the criteria of a comfortable three-bedroom house with a spacious kitchen and a cozy living room. Additionally, it offers a bonus fourth bedroom, providing extra space for guests or as a home office. The property also includes a backyard for gardening, a two-car garage, and a modern, energy-efficient heating system. \\n\\nThe neighborhood of Serene Meadows offers a quiet and family-friendly atmosphere, as well as easy access to parks, playgrounds, and walking trails. It is well-connected to local schools, shopping options, and dining establishments, fulfilling the customer's top priorities. \\n\\nFurthermore, Serene Meadows provides a balance between suburban tranquility and urban amenities, with convenient access to major highways and public transportation options. Overall, this property in Serene Meadows ticks all the boxes for the customer's preferences and offers a perfect blend of comfort, convenience, and tranquility.\""
      ]
     },
     "execution_count": 12,
     "metadata": {},
     "output_type": "execute_result"
    }
   ],
   "source": [
    "get_real_estate_recommendations(user_answers)"
   ]
  },
  {
   "cell_type": "code",
   "execution_count": null,
   "id": "94661f90",
   "metadata": {},
   "outputs": [],
   "source": []
  },
  {
   "cell_type": "code",
   "execution_count": null,
   "id": "b14b4457",
   "metadata": {},
   "outputs": [],
   "source": []
  }
 ],
 "metadata": {
  "kernelspec": {
   "display_name": "Python 3 (ipykernel)",
   "language": "python",
   "name": "python3"
  },
  "language_info": {
   "codemirror_mode": {
    "name": "ipython",
    "version": 3
   },
   "file_extension": ".py",
   "mimetype": "text/x-python",
   "name": "python",
   "nbconvert_exporter": "python",
   "pygments_lexer": "ipython3",
   "version": "3.10.11"
  }
 },
 "nbformat": 4,
 "nbformat_minor": 5
}
